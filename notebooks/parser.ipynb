{
 "cells": [
  {
   "cell_type": "code",
   "execution_count": 4,
   "metadata": {},
   "outputs": [],
   "source": [
    "import requests\n",
    "from bs4 import BeautifulSoup\n",
    "from IPython.display import display, HTML\n",
    "from rich.console import Console\n",
    "from rich.markdown import Markdown\n",
    "import html"
   ]
  },
  {
   "cell_type": "code",
   "execution_count": 8,
   "metadata": {},
   "outputs": [
    {
     "name": "stdout",
     "output_type": "stream",
     "text": [
      "&lt;a class=&quot;ShowCatalogCard&quot; href=&quot;/view/7718/&quot;&gt;&lt;div class=&quot;ShowCatalogCard__poster-wrapper&quot;&gt;&lt;div class=&quot;ShowCatalogCard__poster&quot;&gt;&lt;img alt=&quot;Сериал Шерлок&quot; class=&quot;ShowCatalogCard__poster-image&quot; loading=&quot;lazy&quot; src=&quot;https://media.myshows.me/shows/1920/9/49/9492ce09d3a31c32ba559f5936dac888.jpg&quot; srcset=&quot;https://media.myshows.me/shows/small/9/49/9492ce09d3a31c32ba559f5936dac888.jpg 320w, https://media.myshows.me/shows/760/9/49/9492ce09d3a31c32ba559f5936dac888.jpg 760w&quot; style=&quot;background-image: url(&#x27;https://media.myshows.me/preview/shows/9492ce09d3a31c32ba559f5936dac888&#x27;)&quot;/&gt;&lt;/div&gt;&lt;div class=&quot;rating-flag ShowCatalogCard__rating&quot;&gt;&lt;svg class=&quot;SvgSpriteIcon rating-flag__star&quot; height=&quot;12&quot; width=&quot;12&quot;&gt;&lt;use href=&quot;https://myshows.me/icons.svg?v=1#star&quot;&gt;&lt;/use&gt;&lt;/svg&gt;&lt;span class=&quot;rating-flag__value&quot;&gt;4.73&lt;/span&gt;&lt;/div&gt;&lt;!-- --&gt;&lt;!-- --&gt;&lt;!-- --&gt;&lt;!-- --&gt;&lt;/div&gt;&lt;div class=&quot;ShowCatalogCard__content&quot;&gt;&lt;div class=&quot;ShowCatalogCard__title&quot;&gt;Шерлок&lt;div class=&quot;ShowStatusLabel ShowStatusLabel--dead ShowCatalogCard__label&quot; title=&quot;Отменен/Закончен&quot;&gt;&lt;/div&gt;&lt;/div&gt;&lt;div class=&quot;ShowCatalogCard__title-original&quot;&gt;Sherlock&lt;/div&gt;&lt;div class=&quot;ShowCatalogCard__genres&quot;&gt;Криминал, Драма, Детектив&lt;/div&gt;&lt;div class=&quot;ShowCatalogCard__info&quot;&gt;2010, Великобритания&lt;/div&gt;&lt;/div&gt;&lt;/a&gt;\n"
     ]
    }
   ],
   "source": [
    "url = \"https://myshows.me/search/all/\"\n",
    "\n",
    "response = requests.get(url)\n",
    "\n",
    "data = BeautifulSoup(response.text, \"lxml\")\n",
    "console = Console()\n",
    "\n",
    "html_data = str(data.find(\"a\", class_=\"ShowCatalogCard\"))\n",
    "escaped = html.escape(html_data)\n",
    "# Display the HTML in the terminal\n",
    "print(escaped)"
   ]
  },
  {
   "cell_type": "code",
   "execution_count": 3,
   "metadata": {},
   "outputs": [
    {
     "ename": "SyntaxError",
     "evalue": "invalid syntax (799925008.py, line 1)",
     "output_type": "error",
     "traceback": [
      "\u001b[0;36m  Cell \u001b[0;32mIn[3], line 1\u001b[0;36m\u001b[0m\n\u001b[0;31m    <a class=\"ShowCatalogCard\" href=\"/view/7718/\"><div class=\"ShowCatalogCard__poster-wrapper\"><div class=\"ShowCatalogCard__poster\"><img alt=\"Сериал Шерлок\" class=\"ShowCatalogCard__poster-image\" loading=\"lazy\" src=\"https://media.myshows.me/shows/1920/9/49/9492ce09d3a31c32ba559f5936dac888.jpg\" srcset=\"https://media.myshows.me/shows/small/9/49/9492ce09d3a31c32ba559f5936dac888.jpg 320w, https://media.myshows.me/shows/760/9/49/9492ce09d3a31c32ba559f5936dac888.jpg 760w\" style=\"background-image: url('https://media.myshows.me/preview/shows/9492ce09d3a31c32ba559f5936dac888')\"/></div><div class=\"rating-flag ShowCatalogCard__rating\"><svg class=\"SvgSpriteIcon rating-flag__star\" height=\"12\" width=\"12\"><use href=\"https://myshows.me/icons.svg?v=1#star\"></use></svg><span class=\"rating-flag__value\">4.73</span></div><!-- --><!-- --><!-- --><!-- --></div><div class=\"ShowCatalogCard__content\"><div class=\"ShowCatalogCard__title\">Шерлок<div class=\"ShowStatusLabel ShowStatusLabel--dead ShowCatalogCard__label\" title=\"Отменен/Закончен\"></div></div><div class=\"ShowCatalogCard__title-original\">Sherlock</div><div class=\"ShowCatalogCard__genres\">Криминал, Драма, Детектив</div><div class=\"ShowCatalogCard__info\">2010, Великобритания</div></div></a>\u001b[0m\n\u001b[0m    ^\u001b[0m\n\u001b[0;31mSyntaxError\u001b[0m\u001b[0;31m:\u001b[0m invalid syntax\n"
     ]
    }
   ],
   "source": [
    "<a class=\"ShowCatalogCard\" href=\"/view/7718/\"><div class=\"ShowCatalogCard__poster-wrapper\"><div class=\"ShowCatalogCard__poster\"><img alt=\"Сериал Шерлок\" class=\"ShowCatalogCard__poster-image\" loading=\"lazy\" src=\"https://media.myshows.me/shows/1920/9/49/9492ce09d3a31c32ba559f5936dac888.jpg\" srcset=\"https://media.myshows.me/shows/small/9/49/9492ce09d3a31c32ba559f5936dac888.jpg 320w, https://media.myshows.me/shows/760/9/49/9492ce09d3a31c32ba559f5936dac888.jpg 760w\" style=\"background-image: url('https://media.myshows.me/preview/shows/9492ce09d3a31c32ba559f5936dac888')\"/></div><div class=\"rating-flag ShowCatalogCard__rating\"><svg class=\"SvgSpriteIcon rating-flag__star\" height=\"12\" width=\"12\"><use href=\"https://myshows.me/icons.svg?v=1#star\"></use></svg><span class=\"rating-flag__value\">4.73</span></div><!-- --><!-- --><!-- --><!-- --></div><div class=\"ShowCatalogCard__content\"><div class=\"ShowCatalogCard__title\">Шерлок<div class=\"ShowStatusLabel ShowStatusLabel--dead ShowCatalogCard__label\" title=\"Отменен/Закончен\"></div></div><div class=\"ShowCatalogCard__title-original\">Sherlock</div><div class=\"ShowCatalogCard__genres\">Криминал, Драма, Детектив</div><div class=\"ShowCatalogCard__info\">2010, Великобритания</div></div></a>\n"
   ]
  }
 ],
 "metadata": {
  "kernelspec": {
   "display_name": "recsys",
   "language": "python",
   "name": "python3"
  },
  "language_info": {
   "codemirror_mode": {
    "name": "ipython",
    "version": 3
   },
   "file_extension": ".py",
   "mimetype": "text/x-python",
   "name": "python",
   "nbconvert_exporter": "python",
   "pygments_lexer": "ipython3",
   "version": "3.11.9"
  }
 },
 "nbformat": 4,
 "nbformat_minor": 2
}
