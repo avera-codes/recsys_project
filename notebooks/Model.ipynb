{
 "cells": [
  {
   "cell_type": "code",
   "execution_count": 2,
   "metadata": {},
   "outputs": [],
   "source": [
    "import pandas as pd\n",
    "import numpy as np\n",
    "from sentence_transformers import SentenceTransformer, util\n",
    "from transformers import AutoTokenizer, AutoModel\n",
    "import faiss\n",
    "\n",
    "model = SentenceTransformer(\"cointegrated/rubert-tiny2\")"
   ]
  },
  {
   "cell_type": "code",
   "execution_count": 4,
   "metadata": {},
   "outputs": [
    {
     "data": {
      "text/html": [
       "<div>\n",
       "<style scoped>\n",
       "    .dataframe tbody tr th:only-of-type {\n",
       "        vertical-align: middle;\n",
       "    }\n",
       "\n",
       "    .dataframe tbody tr th {\n",
       "        vertical-align: top;\n",
       "    }\n",
       "\n",
       "    .dataframe thead th {\n",
       "        text-align: right;\n",
       "    }\n",
       "</style>\n",
       "<table border=\"1\" class=\"dataframe\">\n",
       "  <thead>\n",
       "    <tr style=\"text-align: right;\">\n",
       "      <th></th>\n",
       "      <th>url</th>\n",
       "      <th>poster</th>\n",
       "      <th>title</th>\n",
       "      <th>description</th>\n",
       "      <th>rating</th>\n",
       "      <th>year</th>\n",
       "      <th>genres</th>\n",
       "      <th>cast</th>\n",
       "      <th>country</th>\n",
       "      <th>age</th>\n",
       "    </tr>\n",
       "  </thead>\n",
       "  <tbody>\n",
       "    <tr>\n",
       "      <th>0</th>\n",
       "      <td>https://kino.mail.ru/series_915957_potapov_i_l...</td>\n",
       "      <td>https://resizer.mail.ru/p/a4bff38f-c8db-57ac-9...</td>\n",
       "      <td>Гадалка</td>\n",
       "      <td>Люся видит во сне мертвое тело своей сестры, б...</td>\n",
       "      <td>6.4</td>\n",
       "      <td>2019</td>\n",
       "      <td>Драма, Детектив, Мистика</td>\n",
       "      <td>Михаил Пореченков, Екатерина Олькина, Яна Край...</td>\n",
       "      <td>Россия</td>\n",
       "      <td>16</td>\n",
       "    </tr>\n",
       "    <tr>\n",
       "      <th>1</th>\n",
       "      <td>https://kino.mail.ru/series_773009_ohotnik/</td>\n",
       "      <td>https://resizer.mail.ru/p/dccc9300-db25-55ad-b...</td>\n",
       "      <td>Охотник</td>\n",
       "      <td>Средневековый охотник — Владимир, сын Казатула...</td>\n",
       "      <td>7.4</td>\n",
       "      <td>2006</td>\n",
       "      <td>Фантастика, Фэнтези, Приключения</td>\n",
       "      <td>Евгений Цыганов, Елена Панова, Сергей Никоненк...</td>\n",
       "      <td>Россия</td>\n",
       "      <td>16</td>\n",
       "    </tr>\n",
       "    <tr>\n",
       "      <th>2</th>\n",
       "      <td>https://kino.mail.ru/series_925738_velikaya/</td>\n",
       "      <td>https://resizer.mail.ru/p/2bebfd49-f476-5000-9...</td>\n",
       "      <td>Великая</td>\n",
       "      <td>Сериал о молодости императрицы Екатерины II. М...</td>\n",
       "      <td>4.8</td>\n",
       "      <td>2020</td>\n",
       "      <td>Драма, Комедия</td>\n",
       "      <td>Эль Фаннинг, Николас Холт, Фиби Фокс, Адам Год...</td>\n",
       "      <td>США</td>\n",
       "      <td>18</td>\n",
       "    </tr>\n",
       "    <tr>\n",
       "      <th>3</th>\n",
       "      <td>https://kino.mail.ru/series_784898_fantastiche...</td>\n",
       "      <td>https://resizer.mail.ru/p/68617b86-fd8b-5e43-b...</td>\n",
       "      <td>Фантастическая девушка</td>\n",
       "      <td>Главная героиня сериала — Эви — фантастическая...</td>\n",
       "      <td>6.5</td>\n",
       "      <td>1987</td>\n",
       "      <td>Фантастика, Комедия, Семейный</td>\n",
       "      <td>Донна Пескоу, Морин Флэннигэн, Берт Рейнолдс, ...</td>\n",
       "      <td>США</td>\n",
       "      <td>0</td>\n",
       "    </tr>\n",
       "    <tr>\n",
       "      <th>4</th>\n",
       "      <td>https://kino.mail.ru/series_785356_shpionka/</td>\n",
       "      <td>https://resizer.mail.ru/p/733fedb7-047d-58d5-9...</td>\n",
       "      <td>Шпионка</td>\n",
       "      <td>Переезды по всему миру, борьба с «плохими парн...</td>\n",
       "      <td>7.1</td>\n",
       "      <td>2001</td>\n",
       "      <td>Драма, Боевик, Криминал, Триллер, Детектив</td>\n",
       "      <td>Дженнифер Гарнер, Майкл Вартан, Рон Рифкин, Ви...</td>\n",
       "      <td>США</td>\n",
       "      <td>16</td>\n",
       "    </tr>\n",
       "  </tbody>\n",
       "</table>\n",
       "</div>"
      ],
      "text/plain": [
       "                                                 url  \\\n",
       "0  https://kino.mail.ru/series_915957_potapov_i_l...   \n",
       "1        https://kino.mail.ru/series_773009_ohotnik/   \n",
       "2       https://kino.mail.ru/series_925738_velikaya/   \n",
       "3  https://kino.mail.ru/series_784898_fantastiche...   \n",
       "4       https://kino.mail.ru/series_785356_shpionka/   \n",
       "\n",
       "                                              poster                   title  \\\n",
       "0  https://resizer.mail.ru/p/a4bff38f-c8db-57ac-9...                 Гадалка   \n",
       "1  https://resizer.mail.ru/p/dccc9300-db25-55ad-b...                 Охотник   \n",
       "2  https://resizer.mail.ru/p/2bebfd49-f476-5000-9...                 Великая   \n",
       "3  https://resizer.mail.ru/p/68617b86-fd8b-5e43-b...  Фантастическая девушка   \n",
       "4  https://resizer.mail.ru/p/733fedb7-047d-58d5-9...                 Шпионка   \n",
       "\n",
       "                                         description  rating  year  \\\n",
       "0  Люся видит во сне мертвое тело своей сестры, б...     6.4  2019   \n",
       "1  Средневековый охотник — Владимир, сын Казатула...     7.4  2006   \n",
       "2  Сериал о молодости императрицы Екатерины II. М...     4.8  2020   \n",
       "3  Главная героиня сериала — Эви — фантастическая...     6.5  1987   \n",
       "4  Переезды по всему миру, борьба с «плохими парн...     7.1  2001   \n",
       "\n",
       "                                       genres  \\\n",
       "0                    Драма, Детектив, Мистика   \n",
       "1            Фантастика, Фэнтези, Приключения   \n",
       "2                              Драма, Комедия   \n",
       "3               Фантастика, Комедия, Семейный   \n",
       "4  Драма, Боевик, Криминал, Триллер, Детектив   \n",
       "\n",
       "                                                cast country  age  \n",
       "0  Михаил Пореченков, Екатерина Олькина, Яна Край...  Россия   16  \n",
       "1  Евгений Цыганов, Елена Панова, Сергей Никоненк...  Россия   16  \n",
       "2  Эль Фаннинг, Николас Холт, Фиби Фокс, Адам Год...     США   18  \n",
       "3  Донна Пескоу, Морин Флэннигэн, Берт Рейнолдс, ...     США    0  \n",
       "4  Дженнифер Гарнер, Майкл Вартан, Рон Рифкин, Ви...     США   16  "
      ]
     },
     "execution_count": 4,
     "metadata": {},
     "output_type": "execute_result"
    }
   ],
   "source": [
    "df = pd.read_csv(\"/home/artemiy/recsys_project/data/dataset_clean_new.csv\")\n",
    "df.head()"
   ]
  },
  {
   "cell_type": "code",
   "execution_count": 5,
   "metadata": {},
   "outputs": [],
   "source": [
    "# Функция для предобработки текстовых столбцов\n",
    "def preprocess_text_column(column):\n",
    "    df[column] = df[column].apply(lambda x: ','.join(x) if isinstance(x, list) else x)\n",
    "    df[column] = df[column].fillna('')  # Замена NaN на пустую строку\n",
    "    df[column] = df[column].apply(str)  # Преобразование всех значений в строки\n",
    "\n",
    "# Применение функции к каждому текстовому столбцу\n",
    "text_columns = ['title', 'description', 'genres', 'cast']\n",
    "for col in text_columns:\n",
    "    preprocess_text_column(col)\n",
    "\n",
    "# Векторизация текстовых данных и объединение в один массив эмбеддингов\n",
    "all_embeddings = np.hstack([model.encode(df[col].values.tolist()) for col in text_columns])"
   ]
  },
  {
   "cell_type": "code",
   "execution_count": 6,
   "metadata": {},
   "outputs": [
    {
     "ename": "ValueError",
     "evalue": "input not a numpy array",
     "output_type": "error",
     "traceback": [
      "\u001b[0;31m---------------------------------------------------------------------------\u001b[0m",
      "\u001b[0;31mValueError\u001b[0m                                Traceback (most recent call last)",
      "\u001b[0;32m/tmp/ipykernel_179203/3924805589.py\u001b[0m in \u001b[0;36m?\u001b[0;34m()\u001b[0m\n\u001b[1;32m      6\u001b[0m \u001b[0;31m# Создание индекса FAISS\u001b[0m\u001b[0;34m\u001b[0m\u001b[0;34m\u001b[0m\u001b[0m\n\u001b[1;32m      7\u001b[0m \u001b[0mindex\u001b[0m \u001b[0;34m=\u001b[0m \u001b[0mfaiss\u001b[0m\u001b[0;34m.\u001b[0m\u001b[0mIndexFlatIP\u001b[0m\u001b[0;34m(\u001b[0m\u001b[0mall_embeddings\u001b[0m\u001b[0;34m.\u001b[0m\u001b[0mshape\u001b[0m\u001b[0;34m[\u001b[0m\u001b[0;36m1\u001b[0m\u001b[0;34m]\u001b[0m\u001b[0;34m)\u001b[0m\u001b[0;34m\u001b[0m\u001b[0;34m\u001b[0m\u001b[0m\n\u001b[1;32m      8\u001b[0m \u001b[0;34m\u001b[0m\u001b[0m\n\u001b[1;32m      9\u001b[0m \u001b[0;31m# Добавление эмбеддингов в индекс\u001b[0m\u001b[0;34m\u001b[0m\u001b[0;34m\u001b[0m\u001b[0m\n\u001b[0;32m---> 10\u001b[0;31m \u001b[0mindex\u001b[0m\u001b[0;34m.\u001b[0m\u001b[0madd\u001b[0m\u001b[0;34m(\u001b[0m\u001b[0mall_embeddings\u001b[0m\u001b[0;34m)\u001b[0m\u001b[0;34m\u001b[0m\u001b[0;34m\u001b[0m\u001b[0m\n\u001b[0m",
      "\u001b[0;32m~/miniforge-pypy3/envs/recsys/lib/python3.11/site-packages/faiss/class_wrappers.py\u001b[0m in \u001b[0;36m?\u001b[0;34m(self, x)\u001b[0m\n\u001b[1;32m    226\u001b[0m \u001b[0;34m\u001b[0m\u001b[0m\n\u001b[1;32m    227\u001b[0m         \u001b[0mn\u001b[0m\u001b[0;34m,\u001b[0m \u001b[0md\u001b[0m \u001b[0;34m=\u001b[0m \u001b[0mx\u001b[0m\u001b[0;34m.\u001b[0m\u001b[0mshape\u001b[0m\u001b[0;34m\u001b[0m\u001b[0;34m\u001b[0m\u001b[0m\n\u001b[1;32m    228\u001b[0m         \u001b[0;32massert\u001b[0m \u001b[0md\u001b[0m \u001b[0;34m==\u001b[0m \u001b[0mself\u001b[0m\u001b[0;34m.\u001b[0m\u001b[0md\u001b[0m\u001b[0;34m\u001b[0m\u001b[0;34m\u001b[0m\u001b[0m\n\u001b[1;32m    229\u001b[0m         \u001b[0mx\u001b[0m \u001b[0;34m=\u001b[0m \u001b[0mnp\u001b[0m\u001b[0;34m.\u001b[0m\u001b[0mascontiguousarray\u001b[0m\u001b[0;34m(\u001b[0m\u001b[0mx\u001b[0m\u001b[0;34m,\u001b[0m \u001b[0mdtype\u001b[0m\u001b[0;34m=\u001b[0m\u001b[0;34m'float32'\u001b[0m\u001b[0;34m)\u001b[0m\u001b[0;34m\u001b[0m\u001b[0;34m\u001b[0m\u001b[0m\n\u001b[0;32m--> 230\u001b[0;31m         \u001b[0mself\u001b[0m\u001b[0;34m.\u001b[0m\u001b[0madd_c\u001b[0m\u001b[0;34m(\u001b[0m\u001b[0mn\u001b[0m\u001b[0;34m,\u001b[0m \u001b[0mswig_ptr\u001b[0m\u001b[0;34m(\u001b[0m\u001b[0mx\u001b[0m\u001b[0;34m)\u001b[0m\u001b[0;34m)\u001b[0m\u001b[0;34m\u001b[0m\u001b[0;34m\u001b[0m\u001b[0m\n\u001b[0m",
      "\u001b[0;32m~/miniforge-pypy3/envs/recsys/lib/python3.11/site-packages/faiss/swigfaiss_avx2.py\u001b[0m in \u001b[0;36m?\u001b[0;34m(a)\u001b[0m\n\u001b[1;32m  10317\u001b[0m \u001b[0;32mdef\u001b[0m \u001b[0mswig_ptr\u001b[0m\u001b[0;34m(\u001b[0m\u001b[0ma\u001b[0m\u001b[0;34m)\u001b[0m\u001b[0;34m:\u001b[0m\u001b[0;34m\u001b[0m\u001b[0;34m\u001b[0m\u001b[0m\n\u001b[0;32m> 10318\u001b[0;31m     \u001b[0;32mreturn\u001b[0m \u001b[0m_swigfaiss_avx2\u001b[0m\u001b[0;34m.\u001b[0m\u001b[0mswig_ptr\u001b[0m\u001b[0;34m(\u001b[0m\u001b[0ma\u001b[0m\u001b[0;34m)\u001b[0m\u001b[0;34m\u001b[0m\u001b[0;34m\u001b[0m\u001b[0m\n\u001b[0m",
      "\u001b[0;31mValueError\u001b[0m: input not a numpy array"
     ]
    }
   ],
   "source": [
    "# Векторизация текстовых данных и объединение в один массив эмбеддингов\n",
    "# Используем np.mean для получения среднего эмбеддинга по всем столбцам\n",
    "all_embeddings = np.array([model.encode(df[col].values.tolist()) for col in text_columns])\n",
    "all_embeddings = np.mean(all_embeddings, axis=0)\n",
    "\n",
    "# Создание индекса FAISS\n",
    "index = faiss.IndexFlatIP(all_embeddings.shape[1])\n",
    "\n",
    "# Добавление эмбеддингов в индекс\n",
    "index.add(all_embeddings)"
   ]
  },
  {
   "cell_type": "code",
   "execution_count": null,
   "metadata": {},
   "outputs": [
    {
     "name": "stdout",
     "output_type": "stream",
     "text": [
      "Результаты поиска (индексы): [[ 7367 11612 11451  1011  8530]]\n",
      "Результаты поиска (расстояния): [[0.62535715 0.62425184 0.61865187 0.6181731  0.6181023 ]]\n",
      "Косинусное сходство: tensor([[0.6387, 0.6372, 0.6798,  ..., 0.6329, 0.6461, 0.5909]])\n"
     ]
    }
   ],
   "source": [
    "# Кодирование пользовательского запроса\n",
    "user_input = 'Фильм про спортсменов'\n",
    "user_input_embedding = model.encode(user_input).reshape(1, -1)\n",
    "\n",
    "# Поиск ближайших соседей\n",
    "D, I = index.search(user_input_embedding, 5)\n",
    "\n",
    "# Вывод результатов\n",
    "print('Результаты поиска (индексы):', I)\n",
    "print('Результаты поиска (расстояния):', D)\n",
    "\n",
    "# Использование косинусного сходства для дополнительной проверки\n",
    "cos_sim_scores = util.pytorch_cos_sim(user_input_embedding, all_embeddings)\n",
    "\n",
    "# Вывод косинусных сходств\n",
    "print('Косинусное сходство:', cos_sim_scores)"
   ]
  },
  {
   "cell_type": "code",
   "execution_count": null,
   "metadata": {},
   "outputs": [],
   "source": []
  }
 ],
 "metadata": {
  "kernelspec": {
   "display_name": "Python 3 (ipykernel)",
   "language": "python",
   "name": "python3"
  },
  "language_info": {
   "codemirror_mode": {
    "name": "ipython",
    "version": 3
   },
   "file_extension": ".py",
   "mimetype": "text/x-python",
   "name": "python",
   "nbconvert_exporter": "python",
   "pygments_lexer": "ipython3",
   "version": "3.11.9"
  }
 },
 "nbformat": 4,
 "nbformat_minor": 4
}
